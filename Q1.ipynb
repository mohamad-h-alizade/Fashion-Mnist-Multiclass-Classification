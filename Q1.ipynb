{
 "cells": [
  {
   "cell_type": "code",
   "execution_count": 1,
   "metadata": {},
   "outputs": [],
   "source": [
    "import numpy as np\n",
    "from csv import reader \n",
    "import matplotlib.pyplot as plt\n",
    "from sklearn.model_selection import train_test_split as tts\n",
    "from sklearn.svm import LinearSVC, SVC\n",
    "from sklearn.neighbors import KNeighborsClassifier\n",
    "from sklearn.tree import DecisionTreeClassifier\n",
    "from sklearn.neural_network import MLPClassifier\n",
    "from sklearn.preprocessing import StandardScaler\n",
    "from sklearn.pipeline import Pipeline\n",
    "from sklearn.decomposition import PCA\n",
    "from sklearn.metrics import confusion_matrix"
   ]
  },
  {
   "cell_type": "markdown",
   "metadata": {},
   "source": [
    "A) Preprocessing Phase"
   ]
  },
  {
   "cell_type": "code",
   "execution_count": 2,
   "metadata": {},
   "outputs": [],
   "source": [
    "# paramaters\n",
    "S_ratio = 0.5\n",
    "V_ratio = 0.35\n",
    "T_ratio = 0.15"
   ]
  },
  {
   "cell_type": "code",
   "execution_count": 3,
   "metadata": {},
   "outputs": [],
   "source": [
    "filename  = \"fashion-mnist.csv\"\n",
    "learningset = []\n",
    "# reading the dataset\n",
    "with open(filename, 'r') as csvfile:\n",
    "    csvreader = reader(csvfile)\n",
    "    for row in csvreader:\n",
    "        learningset.append(row)\n",
    "\n",
    "dataset = np.array(learningset[1:])\n",
    "# splitting features and labels\n",
    "dataset = np.uint(dataset)\n",
    "x, y = dataset[:,:-1], dataset[:,-1]"
   ]
  },
  {
   "cell_type": "code",
   "execution_count": 4,
   "metadata": {},
   "outputs": [],
   "source": [
    "# splitting the dataset into train, validation, and test\n",
    "x_train, x_remain, y_train, y_remain = tts(x,y, test_size=S_ratio)\n",
    "x_val, x_test, y_val, y_test = tts(x_remain, y_remain, train_size = V_ratio/(1-S_ratio))"
   ]
  },
  {
   "cell_type": "markdown",
   "metadata": {},
   "source": [
    "Fitting the models"
   ]
  },
  {
   "cell_type": "markdown",
   "metadata": {},
   "source": [
    "A) Linear SVM"
   ]
  },
  {
   "cell_type": "code",
   "execution_count": 5,
   "metadata": {},
   "outputs": [],
   "source": [
    "# We build a pipline of operations in which we normalize the data and select important features. After that, we apply linear SVM classification algorithm.\n",
    "# PCA greatly increases our Convergance rate\n",
    "svc_pl = Pipeline([('scaler', StandardScaler()), ('pca', PCA(n_components=100)), ('SVC_clf', LinearSVC(C=10 ,dual=False ,max_iter=10000))])"
   ]
  },
  {
   "cell_type": "code",
   "execution_count": 6,
   "metadata": {},
   "outputs": [
    {
     "data": {
      "text/plain": [
       "Pipeline(steps=[('scaler', StandardScaler()), ('pca', PCA(n_components=100)),\n",
       "                ('SVC_clf', LinearSVC(C=10, dual=False, max_iter=10000))])"
      ]
     },
     "execution_count": 6,
     "metadata": {},
     "output_type": "execute_result"
    }
   ],
   "source": [
    "#simply fitting the model\n",
    "svc_pl.fit(x_train, y_train)"
   ]
  },
  {
   "cell_type": "code",
   "execution_count": 7,
   "metadata": {},
   "outputs": [
    {
     "name": "stdout",
     "output_type": "stream",
     "text": [
      "Accuracy and confusion matrix for the Validation set: \n",
      "\n",
      "0.8191428571428572\n",
      "[[271   1   7  29   2   0  24   2   3   0]\n",
      " [  3 322   3   8   1   0   1   0   0   0]\n",
      " [  5   1 247   8  69   1  33   1   8   0]\n",
      " [ 12   4   4 300  15   1  10   2   1   0]\n",
      " [  3   1  33  14 248   0  39   0   1   0]\n",
      " [  2   0   1   0   0 284   2  19   5  14]\n",
      " [ 62   2  46  10  34   0 199   0   9   0]\n",
      " [  0   0   0   0   0  13   0 324   1  16]\n",
      " [  3   3   3   6   1   3   8   3 333   0]\n",
      " [  0   0   0   0   1   6   3   6   1 339]]\n"
     ]
    }
   ],
   "source": [
    "print('Accuracy and confusion matrix for the Validation set: \\n')\n",
    "print(svc_pl.score(x_val, y_val))\n",
    "print(confusion_matrix(y_val, svc_pl.predict(x_val)))"
   ]
  },
  {
   "cell_type": "code",
   "execution_count": 8,
   "metadata": {},
   "outputs": [
    {
     "name": "stdout",
     "output_type": "stream",
     "text": [
      "Accuracy and confusion matrix for the Testing set: \n",
      "\n",
      "0.8173333333333334\n",
      "[[102   1   2  13   0   0  13   0   1   0]\n",
      " [  1 156   1   7   2   0   0   0   0   0]\n",
      " [  6   1 106   1  29   0  18   0   3   0]\n",
      " [  4   0   0 134   5   0   4   0   1   0]\n",
      " [  0   1   5   4 121   0  14   0   2   0]\n",
      " [  0   0   0   0   0 126   0   6   3   6]\n",
      " [ 28   1  18   6  12   1  84   0   1   0]\n",
      " [  0   0   0   0   0   6   0 150   0   7]\n",
      " [  3   3   2   3   2   5   1   0 114   3]\n",
      " [  0   0   0   0   0  10   0   8   0 133]]\n"
     ]
    }
   ],
   "source": [
    "print('Accuracy and confusion matrix for the Testing set: \\n')\n",
    "print(svc_pl.score(x_test, y_test))\n",
    "print(confusion_matrix(y_test, svc_pl.predict(x_test)))"
   ]
  },
  {
   "cell_type": "markdown",
   "metadata": {},
   "source": [
    "B) Gaussian Kernel "
   ]
  },
  {
   "cell_type": "markdown",
   "metadata": {},
   "source": [
    "rbf: exp(-gamma*||x-x'||^2)"
   ]
  },
  {
   "cell_type": "markdown",
   "metadata": {},
   "source": [
    "By iteratvie search and cross validation we choose the gamma = 0.002 and hence, sigma=250"
   ]
  },
  {
   "cell_type": "code",
   "execution_count": 9,
   "metadata": {},
   "outputs": [],
   "source": [
    "svc_gaussian_pl = Pipeline([('scaler', StandardScaler()), ('pca', PCA(n_components=250)), ('SVC_clf', SVC(C=20 , kernel='rbf', gamma = 0.0002))])"
   ]
  },
  {
   "cell_type": "code",
   "execution_count": 10,
   "metadata": {},
   "outputs": [
    {
     "data": {
      "text/plain": [
       "Pipeline(steps=[('scaler', StandardScaler()), ('pca', PCA(n_components=250)),\n",
       "                ('SVC_clf', SVC(C=20, gamma=0.0002))])"
      ]
     },
     "execution_count": 10,
     "metadata": {},
     "output_type": "execute_result"
    }
   ],
   "source": [
    "#simply fitting the model\n",
    "svc_gaussian_pl.fit(x_train, y_train)"
   ]
  },
  {
   "cell_type": "code",
   "execution_count": 11,
   "metadata": {},
   "outputs": [
    {
     "name": "stdout",
     "output_type": "stream",
     "text": [
      "Accuracy and confusion matrix for the Validation set: \n",
      "\n",
      "0.8528571428571429\n",
      "[[270   0   8  21   1   1  35   0   3   0]\n",
      " [  2 326   1   6   1   0   2   0   0   0]\n",
      " [  7   0 282   7  50   0  26   0   1   0]\n",
      " [ 15   3   6 307  12   0   6   0   0   0]\n",
      " [  3   0  30   9 265   0  32   0   0   0]\n",
      " [  1   0   0   0   0 301   0  17   3   5]\n",
      " [ 58   1  43   7  29   0 220   0   4   0]\n",
      " [  0   0   0   0   0   9   0 327   1  17]\n",
      " [  2   0   7   3   1   0   3   1 346   0]\n",
      " [  0   0   0   0   0   8   0   7   0 341]]\n"
     ]
    }
   ],
   "source": [
    "print('Accuracy and confusion matrix for the Validation set: \\n')\n",
    "print(svc_gaussian_pl.score(x_val, y_val))\n",
    "print(confusion_matrix(y_val, svc_gaussian_pl.predict(x_val)))"
   ]
  },
  {
   "cell_type": "code",
   "execution_count": 12,
   "metadata": {},
   "outputs": [
    {
     "name": "stdout",
     "output_type": "stream",
     "text": [
      "Accuracy and confusion matrix for the Testing set: \n",
      "\n",
      "0.8513333333333334\n",
      "[[110   1   1  10   0   0  10   0   0   0]\n",
      " [  3 157   0   6   1   0   0   0   0   0]\n",
      " [  2   0 120   1  27   0  11   0   3   0]\n",
      " [  4   1   0 135   5   0   2   0   1   0]\n",
      " [  1   1   6   2 120   0  17   0   0   0]\n",
      " [  0   0   0   0   0 131   1   5   1   3]\n",
      " [ 26   0  15   7  14   0  87   0   2   0]\n",
      " [  0   0   0   0   0   3   0 153   0   7]\n",
      " [  0   0   3   1   1   2   7   0 122   0]\n",
      " [  0   0   0   0   0   5   0   4   0 142]]\n"
     ]
    }
   ],
   "source": [
    "print('Accuracy and confusion matrix for the Testing set: \\n')\n",
    "print(svc_gaussian_pl.score(x_test, y_test))\n",
    "print(confusion_matrix(y_test, svc_gaussian_pl.predict(x_test)))"
   ]
  },
  {
   "cell_type": "markdown",
   "metadata": {},
   "source": [
    "C) K-Nearest Neighbours"
   ]
  },
  {
   "cell_type": "code",
   "execution_count": 13,
   "metadata": {},
   "outputs": [],
   "source": [
    "knn_pl = Pipeline([('scaler', StandardScaler()), ('pca', PCA(n_components=100)), ('knn_clf', KNeighborsClassifier(n_neighbors=15))])"
   ]
  },
  {
   "cell_type": "code",
   "execution_count": 14,
   "metadata": {},
   "outputs": [
    {
     "data": {
      "text/plain": [
       "Pipeline(steps=[('scaler', StandardScaler()), ('pca', PCA(n_components=100)),\n",
       "                ('knn_clf', KNeighborsClassifier(n_neighbors=15))])"
      ]
     },
     "execution_count": 14,
     "metadata": {},
     "output_type": "execute_result"
    }
   ],
   "source": [
    "#simply fitting the model\n",
    "knn_pl.fit(x_train, y_train)"
   ]
  },
  {
   "cell_type": "code",
   "execution_count": 15,
   "metadata": {},
   "outputs": [
    {
     "name": "stdout",
     "output_type": "stream",
     "text": [
      "Accuracy and confusion matrix for the Validation set: \n",
      "\n",
      "0.7968571428571428\n",
      "[[276   0   7  21   4   0  28   0   2   1]\n",
      " [  2 321   4   8   1   0   2   0   0   0]\n",
      " [  7   0 231   6  77   0  49   0   3   0]\n",
      " [ 22   1   3 292  19   0  12   0   0   0]\n",
      " [  0   0  41  19 231   0  45   0   3   0]\n",
      " [  0   0   0   0   1 261   3  41   0  21]\n",
      " [ 76   0  44   8  39   0 192   0   3   0]\n",
      " [  0   0   0   0   0   6   0 320   0  28]\n",
      " [  2   0   9   4   3   5   8   2 328   2]\n",
      " [  0   0   0   0   0   5   1  13   0 337]]\n"
     ]
    }
   ],
   "source": [
    "print('Accuracy and confusion matrix for the Validation set: \\n')\n",
    "print(knn_pl.score(x_val, y_val))\n",
    "print(confusion_matrix(y_val, knn_pl.predict(x_val)))"
   ]
  },
  {
   "cell_type": "code",
   "execution_count": 16,
   "metadata": {},
   "outputs": [
    {
     "name": "stdout",
     "output_type": "stream",
     "text": [
      "Accuracy and confusion matrix for the Testing set: \n",
      "\n",
      "0.806\n",
      "[[120   1   1   5   1   0   4   0   0   0]\n",
      " [  5 153   0   9   0   0   0   0   0   0]\n",
      " [  3   0  99   1  29   0  26   0   6   0]\n",
      " [  4   0   1 133   7   0   2   0   1   0]\n",
      " [  0   1  10   4 108   0  23   0   1   0]\n",
      " [  0   0   0   0   0 114   1  19   1   6]\n",
      " [ 35   0  20   6  15   0  73   0   2   0]\n",
      " [  0   0   0   0   0   1   0 152   0  10]\n",
      " [  0   0   1   1   7   0   3   5 118   1]\n",
      " [  0   0   0   0   0   2   0  10   0 139]]\n"
     ]
    }
   ],
   "source": [
    "print('Accuracy and confusion matrix for the Testing set: \\n')\n",
    "print(knn_pl.score(x_test, y_test))\n",
    "print(confusion_matrix(y_test, knn_pl.predict(x_test)))"
   ]
  },
  {
   "cell_type": "markdown",
   "metadata": {},
   "source": [
    "D) Decision Tree"
   ]
  },
  {
   "cell_type": "code",
   "execution_count": 17,
   "metadata": {},
   "outputs": [],
   "source": [
    "dt_pl = Pipeline([('scaler', StandardScaler()), ('pca', PCA(n_components=100)), ('dt_clf', DecisionTreeClassifier())])"
   ]
  },
  {
   "cell_type": "code",
   "execution_count": 18,
   "metadata": {},
   "outputs": [
    {
     "data": {
      "text/plain": [
       "Pipeline(steps=[('scaler', StandardScaler()), ('pca', PCA(n_components=100)),\n",
       "                ('dt_clf', DecisionTreeClassifier())])"
      ]
     },
     "execution_count": 18,
     "metadata": {},
     "output_type": "execute_result"
    }
   ],
   "source": [
    "#simply fitting the model\n",
    "dt_pl.fit(x_train, y_train)"
   ]
  },
  {
   "cell_type": "code",
   "execution_count": 19,
   "metadata": {},
   "outputs": [
    {
     "name": "stdout",
     "output_type": "stream",
     "text": [
      "Accuracy and confusion matrix for the Validation set: \n",
      "\n",
      "0.7102857142857143\n",
      "[[219   3  15  34   4   3  56   0   5   0]\n",
      " [  4 314   3  10   2   0   3   0   2   0]\n",
      " [ 11   2 218  10  63   1  55   0  12   1]\n",
      " [ 30   5   5 258  22   1  20   0   8   0]\n",
      " [  5   0  56  19 194   1  56   0   8   0]\n",
      " [  2   2   2   1   2 264   4  35   8   7]\n",
      " [ 70   3  58  17  44   0 158   1  10   1]\n",
      " [  0   0   1   0   0  57   0 265   3  28]\n",
      " [ 10   1  10   1   3   4  14   2 311   7]\n",
      " [  1   0   3   4   2  24   1  31   5 285]]\n"
     ]
    }
   ],
   "source": [
    "print('Accuracy and confusion matrix for the Validation set: \\n')\n",
    "print(dt_pl.score(x_val, y_val))\n",
    "print(confusion_matrix(y_val, dt_pl.predict(x_val)))"
   ]
  },
  {
   "cell_type": "code",
   "execution_count": 20,
   "metadata": {},
   "outputs": [
    {
     "name": "stdout",
     "output_type": "stream",
     "text": [
      "Accuracy and confusion matrix for the Testing set: \n",
      "\n",
      "0.704\n",
      "[[ 84   3   4  12   2   1  24   0   1   1]\n",
      " [  1 151   0   7   2   0   5   0   1   0]\n",
      " [  7   1  93   6  25   1  26   0   5   0]\n",
      " [ 11   8   1 109   8   0   6   0   5   0]\n",
      " [  3   2  22   4  87   0  25   0   4   0]\n",
      " [  0   0   2   1   1 110   0  20   5   2]\n",
      " [ 29   1  17  10  25   0  65   0   4   0]\n",
      " [  0   0   0   0   0  20   0 127   1  15]\n",
      " [  3   0   7   1   1   1   5   3 111   4]\n",
      " [  0   0   1   1   0  11   0  16   3 119]]\n"
     ]
    }
   ],
   "source": [
    "print('Accuracy and confusion matrix for the Testing set: \\n')\n",
    "print(dt_pl.score(x_test, y_test))\n",
    "print(confusion_matrix(y_test, dt_pl.predict(x_test)))"
   ]
  },
  {
   "cell_type": "markdown",
   "metadata": {},
   "source": [
    "E) Neural Network"
   ]
  },
  {
   "cell_type": "markdown",
   "metadata": {},
   "source": [
    "sklearn uses softmax for classification as default \n",
    "\n",
    "errors for each function (may change slightly due to the random splitting of the dataset)\n",
    "RELU Lv = 0.8465 ||\n",
    "identity Lv = 0.8221 ||\n",
    "logistic Lv = 0.8457 ||\n",
    "tanh Lv = 0.8411 ||\n",
    "\n",
    "we choose \"ReLu\""
   ]
  },
  {
   "cell_type": "code",
   "execution_count": 21,
   "metadata": {},
   "outputs": [],
   "source": [
    "nn_pl = Pipeline([('scaler', StandardScaler()), ('pca', PCA(n_components=100)), ('nn_clf', MLPClassifier(hidden_layer_sizes=(100,100), activation='relu', solver='sgd', max_iter=10000))])"
   ]
  },
  {
   "cell_type": "code",
   "execution_count": 22,
   "metadata": {},
   "outputs": [
    {
     "data": {
      "text/plain": [
       "Pipeline(steps=[('scaler', StandardScaler()), ('pca', PCA(n_components=100)),\n",
       "                ('nn_clf',\n",
       "                 MLPClassifier(hidden_layer_sizes=(100, 100), max_iter=10000,\n",
       "                               solver='sgd'))])"
      ]
     },
     "execution_count": 22,
     "metadata": {},
     "output_type": "execute_result"
    }
   ],
   "source": [
    "#simply fitting the model\n",
    "nn_pl.fit(x_train, y_train)"
   ]
  },
  {
   "cell_type": "code",
   "execution_count": 23,
   "metadata": {},
   "outputs": [
    {
     "name": "stdout",
     "output_type": "stream",
     "text": [
      "Accuracy and confusion matrix for the Validation set: \n",
      "\n",
      "0.8374285714285714\n",
      "[[250   0  10  23   2   0  51   0   3   0]\n",
      " [  0 327   3   3   2   0   3   0   0   0]\n",
      " [ 10   0 275   6  49   0  31   0   2   0]\n",
      " [ 19   2   6 301  15   0   5   0   1   0]\n",
      " [  1   0  38  15 250   0  32   0   3   0]\n",
      " [  1   0   0   0   0 302   0  14   4   6]\n",
      " [ 49   1  34  12  27   1 233   0   5   0]\n",
      " [  0   0   0   0   0  12   0 324   2  16]\n",
      " [  7   2   6   2   3   0   7   1 334   1]\n",
      " [  0   0   1   1   0   6   0  12   1 335]]\n"
     ]
    }
   ],
   "source": [
    "print('Accuracy and confusion matrix for the Validation set: \\n')\n",
    "print(nn_pl.score(x_val, y_val))\n",
    "print(confusion_matrix(y_val, nn_pl.predict(x_val)))"
   ]
  },
  {
   "cell_type": "code",
   "execution_count": 24,
   "metadata": {},
   "outputs": [
    {
     "name": "stdout",
     "output_type": "stream",
     "text": [
      "Accuracy and confusion matrix for the Testing set: \n",
      "\n",
      "0.8353333333333334\n",
      "[[101   1   1   7   1   0  19   0   2   0]\n",
      " [  1 160   0   3   2   0   1   0   0   0]\n",
      " [  2   1 116   2  19   0  20   0   4   0]\n",
      " [  3   2   0 131   7   0   3   0   2   0]\n",
      " [  0   1   5   3 124   0  12   0   2   0]\n",
      " [  0   0   0   0   1 129   0   8   2   1]\n",
      " [ 25   0  12   7  17   0  87   0   3   0]\n",
      " [  0   0   0   0   0   3   0 150   1   9]\n",
      " [  2   1   1   3   2   3   8   0 115   1]\n",
      " [  0   0   0   0   0   3   0   8   0 140]]\n"
     ]
    }
   ],
   "source": [
    "print('Accuracy and confusion matrix for the Testing set: \\n')\n",
    "print(nn_pl.score(x_test, y_test))\n",
    "print(confusion_matrix(y_test, nn_pl.predict(x_test)))"
   ]
  },
  {
   "cell_type": "code",
   "execution_count": 25,
   "metadata": {},
   "outputs": [
    {
     "name": "stdout",
     "output_type": "stream",
     "text": [
      "Training error in each iteration of the neural network \n",
      "\n"
     ]
    },
    {
     "data": {
      "text/plain": [
       "Text(0, 0.5, 'cost')"
      ]
     },
     "execution_count": 25,
     "metadata": {},
     "output_type": "execute_result"
    },
    {
     "data": {
      "image/png": "[encoded data removed]",
      "text/plain": [
       "<Figure size 432x288 with 1 Axes>"
      ]
     },
     "metadata": {
      "needs_background": "light"
     },
     "output_type": "display_data"
    }
   ],
   "source": [
    "print('Training error in each iteration of the neural network \\n')\n",
    "plt.plot(nn_pl.named_steps.nn_clf.loss_curve_)\n",
    "plt.title('Training Error')\n",
    "plt.xlabel('iteration')\n",
    "plt.ylabel('cost')"
   ]
  },
  {
   "cell_type": "code",
   "execution_count": 26,
   "metadata": {},
   "outputs": [
    {
     "name": "stdout",
     "output_type": "stream",
     "text": [
      "Accuracy and confusion matrix for the training set: \n",
      "\n",
      "0.9992\n",
      "[[513   0   0   0   0   0   0   0   0   0]\n",
      " [  0 495   0   0   0   0   0   0   0   0]\n",
      " [  0   0 493   0   0   0   0   0   0   0]\n",
      " [  0   0   0 519   0   0   0   0   0   0]\n",
      " [  0   0   1   0 501   0   0   0   0   0]\n",
      " [  0   0   0   0   0 449   0   0   0   0]\n",
      " [  1   0   0   0   0   0 498   0   0   0]\n",
      " [  0   0   0   0   0   0   0 522   0   0]\n",
      " [  0   0   0   0   0   0   0   0 514   0]\n",
      " [  0   0   0   0   0   0   0   2   0 492]]\n"
     ]
    }
   ],
   "source": [
    "print('Accuracy and confusion matrix for the training set: \\n')\n",
    "print(nn_pl.score(x_train, y_train))\n",
    "print(confusion_matrix(y_train, nn_pl.predict(x_train)))"
   ]
  }
 ],
 "metadata": {
  "interpreter": {
   "hash": "71e4a1973cc06ace0ed902a3ef73e44bc13fed51ebddba603b556d0038b432c0"
  },
  "kernelspec": {
   "display_name": "Python 3.7.9 64-bit (windows store)",
   "language": "python",
   "name": "python3"
  },
  "language_info": {
   "codemirror_mode": {
    "name": "ipython",
    "version": 3
   },
   "file_extension": ".py",
   "mimetype": "text/x-python",
   "name": "python",
   "nbconvert_exporter": "python",
   "pygments_lexer": "ipython3",
   "version": "3.7.9"
  },
  "orig_nbformat": 4
 },
 "nbformat": 4,
 "nbformat_minor": 2
}
